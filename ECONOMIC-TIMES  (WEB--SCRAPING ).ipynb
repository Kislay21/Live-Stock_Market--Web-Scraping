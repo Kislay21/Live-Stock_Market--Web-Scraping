{
 "cells": [
  {
   "cell_type": "code",
   "execution_count": 1,
   "metadata": {},
   "outputs": [],
   "source": [
    "import requests\n",
    "import bs4\n",
    "from bs4 import BeautifulSoup"
   ]
  },
  {
   "cell_type": "code",
   "execution_count": 2,
   "metadata": {},
   "outputs": [],
   "source": [
    "url = 'https://economictimes.indiatimes.com/markets/stocks/news'"
   ]
  },
  {
   "cell_type": "code",
   "execution_count": 3,
   "metadata": {},
   "outputs": [],
   "source": [
    "headers = {\n",
    "    'User-Agent': \"Mozilla/5.0 (Windows NT 10.0; Win64; x64) AppleWebKit/537.36 (KHTML, like Gecko) Chrome/90.0.4430.93 Safari/537.36\"\n",
    "}"
   ]
  },
  {
   "cell_type": "code",
   "execution_count": 4,
   "metadata": {},
   "outputs": [],
   "source": [
    "r = requests.get(url,{'headers' :headers})"
   ]
  },
  {
   "cell_type": "code",
   "execution_count": 5,
   "metadata": {},
   "outputs": [
    {
     "data": {
      "text/plain": [
       "'Dow Jones opens lower as rotation out of megacaps weighs'"
      ]
     },
     "execution_count": 5,
     "metadata": {},
     "output_type": "execute_result"
    }
   ],
   "source": [
    "soup = bs4.BeautifulSoup(r.text,'html.parser')\n",
    "soup.find_all('div',{'class':'eachStory'})[0].find_all('a')[-1].text"
   ]
  },
  {
   "cell_type": "code",
   "execution_count": 21,
   "metadata": {},
   "outputs": [
    {
     "name": "stdout",
     "output_type": "stream",
     "text": [
      "1\n",
      "Dow Jones opens lower as rotation out of megacaps weighs\n",
      "The Dow Jones Industrial Average fell 168.03 points, or 0.49%, at the open to 33,944.76.\n",
      "\n",
      "2\n",
      "Tech View: Nifty forms bearish candle; holding 14,416 level is key to recovery\n",
      "“Nifty50 couldn’t stretch beyond its key hourly moving averages,” said Gaurav Ratnaparkhi, Senior Technical Analyst at Sharekhan.\n",
      "\n",
      "3\n",
      "Market Movers: Banks, sugar stocks slump; 34 scrips give sell signal\n",
      "“On the upside, there is stiff resistance at 14,700 and until we do not get past that, we will not enter a bullish trend. It is a tight range and traders need to be cautious in their approach,” said Manish Hathiramani, technical analyst at Deen Dayal Investments.\n",
      "\n",
      "4\n",
      "F&O: Nifty range in 14,000-15,000 zone now; easing VIX only solace\n",
      "Nifty has to hold above 14,500 level to witness a bounce towards 14,700 and 14,800 levels, while on the downside support exists at 14,400 and 14,250 levels.\n",
      "\n",
      "5\n",
      "Sensex loses 465 points, Nifty below 14,500; L&T Tech plunges 8%\n",
      "RIL, HDFC twins send Sensex 465 points lower; Nifty ends below 14,500; L&T Tech plunges 8%, Jubilant Food 4%.\n",
      "\n",
      "6\n",
      "U-turn on D-Street! Sensex ends 465 points lower amid selloff in financial stocks\n",
      "India reported 357,229 new COVID-19 cases over the last 24 hours, taking the total tally to 20.28 million.\n",
      "\n",
      "7\n",
      "Global equity benchmarks near record peaks, dollar shuffles higher\n",
      "Australia's S&P/ASX200 had risen 0.6% and Hong Kong had climbed 0.7% in thin trading due to holidays in both China and Japan.\n",
      "\n",
      "8\n",
      "Emerging market stocks struggle amid surge in Covid-19 infections\n",
      "Taiwan's main stock index, one of the strongest performers in Asia so far this year, was 1.7% down in a second consecutive day of heavy losses, amid a rare rise in infections.\n",
      "\n",
      "9\n",
      "Australia shares rise as central bank upgrades growth forecast\n",
      "The Reserve Bank of Australia (RBA) left its key rates at near zero for a fifth straight meeting and upgraded the 2021 economic growth forecast to 4.75% from 3.5% in February.\n",
      "\n",
      "10\n",
      "JSW Hydro Energy to issue dollar-denominated notes\n",
      "The company did not disclose the amount to be raised under this issue.\n",
      "\n"
     ]
    }
   ],
   "source": [
    "i=0\n",
    "while i<10:\n",
    "    print(i+1)\n",
    "    print(soup.find_all('div',{'class':'eachStory'})[i].find_all('a')[-1].text)\n",
    "    print(soup.find_all('div',{'class':'eachStory'})[i].find_all('p')[-1].text)\n",
    "    print()\n",
    "    i+=1"
   ]
  },
  {
   "cell_type": "code",
   "execution_count": null,
   "metadata": {},
   "outputs": [],
   "source": []
  }
 ],
 "metadata": {
  "kernelspec": {
   "display_name": "Python 3",
   "language": "python",
   "name": "python3"
  },
  "language_info": {
   "codemirror_mode": {
    "name": "ipython",
    "version": 3
   },
   "file_extension": ".py",
   "mimetype": "text/x-python",
   "name": "python",
   "nbconvert_exporter": "python",
   "pygments_lexer": "ipython3",
   "version": "3.8.5"
  }
 },
 "nbformat": 4,
 "nbformat_minor": 4
}
